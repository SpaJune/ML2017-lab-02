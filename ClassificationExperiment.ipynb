{
 "cells": [
  {
   "cell_type": "code",
   "execution_count": 1,
   "metadata": {
    "collapsed": true
   },
   "outputs": [],
   "source": [
    "import matplotlib.pyplot as plt\n",
    "import numpy as np\n",
    "import sklearn\n",
    "from sklearn.datasets import load_svmlight_file\n",
    "from sklearn.model_selection import train_test_split\n",
    "import random"
   ]
  },
  {
   "cell_type": "code",
   "execution_count": 2,
   "metadata": {
    "collapsed": true
   },
   "outputs": [],
   "source": [
    "def get_data(dir,f_num):\n",
    "    data = load_svmlight_file(dir,n_features=f_num) #读取数据，设定feature数量\n",
    "    return data[0], data[1]\n"
   ]
  },
  {
   "cell_type": "code",
   "execution_count": 3,
   "metadata": {
    "collapsed": true
   },
   "outputs": [],
   "source": [
    "test_dir=\"./a9a.t\"\n",
    "train_dir=\"./a9a\"\n",
    "\n",
    "x_test,y_test=get_data(test_dir,123)\n",
    "x_train,y_train=get_data(train_dir,123)\n",
    "\n"
   ]
  },
  {
   "cell_type": "code",
   "execution_count": 4,
   "metadata": {},
   "outputs": [
    {
     "name": "stdout",
     "output_type": "stream",
     "text": [
      "16281\n",
      "32561\n"
     ]
    }
   ],
   "source": [
    "attr_num=x_train.shape[1] #属性的数量\n",
    "m_test=x_test.shape[0] #test集合的样本数量\n",
    "m_train=x_train.shape[0] #train集合的样本数量\n",
    "\n",
    "x_train=x_train.todense() #化为稠密矩阵，后面方便操作\n",
    "x_test=x_test.todense()  #同上\n",
    "\n",
    "x_train=np.column_stack((np.ones(m_train),x_train)) #加一列1，作为偏置\n",
    "x_test=np.column_stack((np.ones(m_test),x_test)) #加一列1，作为偏置\n",
    "\n",
    "y_train=np.mat(y_train).T  #化为列向量\n",
    "y_test=np.mat(y_test).T    #同上\n",
    "\n",
    "print(m_test)\n",
    "print(m_train)"
   ]
  },
  {
   "cell_type": "code",
   "execution_count": 5,
   "metadata": {
    "collapsed": true
   },
   "outputs": [],
   "source": [
    "def loss(w,x,y):   #hinge loss\n",
    "    l=1-np.multiply(y,x*w)\n",
    "    l2=(l>=0)\n",
    "    r=np.multiply(l,l2)\n",
    "    return np.mean(r)\n",
    "\n",
    "\n",
    "def gradient(w,x,y,C=1):  #svm的梯度计算，包括正则项，C默认为1\n",
    "    l=1-np.multiply(y,x*w)   #先做点乘\n",
    "    l2=(l>=0)         #然后求出哪个元素大于等于0，化成布尔矩阵\n",
    "    tmp=np.multiply(y,l2) #通过点乘进行筛选，大于等于0的项保留，小于0的项清除变为0\n",
    "    return w-C*np.sum(np.multiply(x,tmp),0).T  #计算最终梯度\n",
    "\n",
    "\n",
    "def accuracy(w,x,y,threshold):\n",
    "    y_=x*w\n",
    "    acc=np.mean(np.multiply(y_,y)>=threshold)\n",
    "    return acc"
   ]
  },
  {
   "cell_type": "code",
   "execution_count": 13,
   "metadata": {
    "collapsed": true
   },
   "outputs": [],
   "source": [
    "#四种优化算法\n",
    "\n",
    "#eta:learning rate, C: hinge-loss factor\n",
    "#y:label,eta: learning rate, epoch:loop epoch,batch_size: batch size in one loop\n",
    "def gradientDescent(w,x,y,eta,epoch,batch_size,C):\n",
    "    loss_test=[]\n",
    "    for j in range(epoch):\n",
    "        i=random.randint(0,m_train-batch_size)\n",
    "        #g=eta*np.mean(mul/(1+np.exp(index)),0).T-eta*lamda*w\n",
    "        #w=(1-eta*lamda)*w+eta*np.mean(mul/(1+np.exp(index)),0).T\n",
    "        #w=w+g\n",
    "        x_t=x[i:i+batch_size]\n",
    "        y_t=y[i:i+batch_size]\n",
    "        #print(x_t[0])\n",
    "        g=gradient(w,x_t,y_t,C)\n",
    "        w=w-eta*g\n",
    "        loss_test.append(loss(w,x_test,y_test))\n",
    "    return w,loss_test\n",
    "    \n",
    "#eta:learning rate, C: hinge-loss factor\n",
    "#y:label,eta: learning rate, epoch:loop epoch,m: batch size in one loop\n",
    "# gamma: forget rate\n",
    "    \n",
    "def NAG(w,x,y,gamma,eta,epoch,C,m):\n",
    "    delta_w=0\n",
    "    test_loss=[]\n",
    "    for i in range(epoch):\n",
    "        k=random.randint(0,m_train-m)\n",
    "        x_t=x[k:k+m]\n",
    "        y_t=y[k:k+m]\n",
    "        g=gradient(w-gamma*delta_w,x_t,y_t,C)\n",
    "        delta_w=gamma*delta_w+eta*g\n",
    "        w=w-delta_w\n",
    "        test_loss.append(loss(w,x_test,y_test))\n",
    "    return w,test_loss\n",
    "\n",
    "\n",
    "#eta:learning rate, C: hinge loss factor\n",
    "#y:label,eta: learning rate, epoch:loop epoch,gamma: forgetting rate, m: batch size in one loop\n",
    "def RMS(w,x,y,eta,epoch,gamma,C,m):\n",
    "    epison=0.0001\n",
    "    G=0\n",
    "    test_loss=[]\n",
    "    for i in range(epoch):\n",
    "        k=random.randint(0,m_train-m)\n",
    "        x_t=x[k:k+m]\n",
    "        y_t=y[k:k+m]\n",
    "        g=gradient(w,x_t,y_t,C)\n",
    "        G=gamma*G+(1-gamma)*np.square(g)\n",
    "        #print(G)\n",
    "        #print(E.shape)\n",
    "        delta_w=eta*np.multiply(1/np.sqrt(G+epison),g)\n",
    "        w=w-delta_w\n",
    "        test_loss.append(loss(w,x_test,y_test))\n",
    "        #print(loss(w,x_test,y_test))\n",
    "    return w,test_loss\n",
    "\n",
    "# C: hinge loss factor\n",
    "#y:label,eta: learning rate, epoch:loop epoch,gamma: forgetting rate, m: batch size in one loop\n",
    "def AdaDelta(w,x,y,gamma,C,epoch,m): #without learning rate\n",
    "    epison=0.0001\n",
    "    G=0\n",
    "    delta=0\n",
    "    test_loss=[]\n",
    "    for i in range(epoch):\n",
    "        k=random.randint(0,m_train-m)\n",
    "        x_t=x[k:k+m]\n",
    "        y_t=y[k:k+m]\n",
    "        g=gradient(w,x_t,y_t,C)\n",
    "        G=gamma*G+(1-gamma)*np.square(g)\n",
    "        delta_w=-np.multiply(np.sqrt(delta+epison)/np.sqrt(G+epison),g)\n",
    "        w=w+delta_w\n",
    "        delta=gamma*delta+(1-gamma)*np.square(delta_w)\n",
    "        test_loss.append(loss(w,x_test,y_test))\n",
    "    return w,test_loss\n",
    "\n",
    "# lamda:lambda before w if logistic regression is used, C if hinge-loss is used\n",
    "#y:label,eta: learning rate, epoch:loop epoch,gamma: forgetting rate, beta: forgetting rate, m: batch size in one loop\n",
    "#gradient: gradient function, loss:loss function\n",
    "\n",
    "def Adam(w,x,y,eta,gamma,beta,epoch,batch_size,C):\n",
    "    epison=0.0001\n",
    "    G=0    #square mean\n",
    "    m=0    #weighted mean\n",
    "    delta=0\n",
    "    test_loss=[]\n",
    "    for i in range(epoch):\n",
    "        k=random.randint(0,m_train-batch_size)\n",
    "        x_t=x[k:k+batch_size]\n",
    "        y_t=y[k:k+batch_size]\n",
    "        g=gradient(w,x_t,y_t,C)    \n",
    "        m=beta*m+(1-beta)*g\n",
    "        G=gamma*G+(1-gamma)*np.square(g)     \n",
    "        alpha=eta*np.sqrt(1-gamma)/(1-beta)  \n",
    "        w=w-alpha*m/np.sqrt(G+epison)\n",
    "        #print(loss(w,x_test,y_test))\n",
    "        test_loss.append(loss(w,x_test,y_test))\n",
    "    return w,test_loss\n",
    "\n",
    "    "
   ]
  },
  {
   "cell_type": "code",
   "execution_count": 19,
   "metadata": {},
   "outputs": [
    {
     "data": {
      "image/png": "[encoded data removed]",
      "text/plain": [
       "<matplotlib.figure.Figure at 0x1bb49b35320>"
      ]
     },
     "metadata": {},
     "output_type": "display_data"
    },
    {
     "name": "stdout",
     "output_type": "stream",
     "text": [
      "0.838830538665\n"
     ]
    }
   ],
   "source": [
    "#gradient_descent\n",
    "eta=0.002\n",
    "C=1\n",
    "epoch=500\n",
    "batch_size=64\n",
    "#w=np.zeros([attr_num+1,1])\n",
    "w=np.random.standard_normal([attr_num+1,1])\n",
    "\n",
    "w,loss_test=gradientDescent(w,x_train,y_train,eta,epoch,batch_size,C)\n",
    "#print(x_test.shape)\n",
    "\n",
    "\n",
    "iteration=list(range(epoch))\n",
    "plt.figure()\n",
    "plt.plot(iteration,loss_test)\n",
    "plt.show()\n",
    "\n",
    "print(accuracy(w,x_test,y_test,0))"
   ]
  },
  {
   "cell_type": "code",
   "execution_count": 10,
   "metadata": {},
   "outputs": [
    {
     "data": {
      "image/png": "[encoded data removed]",
      "text/plain": [
       "<matplotlib.figure.Figure at 0x1bb498fd208>"
      ]
     },
     "metadata": {},
     "output_type": "display_data"
    },
    {
     "name": "stdout",
     "output_type": "stream",
     "text": [
      "0.843989926909\n"
     ]
    }
   ],
   "source": [
    "#NAG\n",
    "eta=0.001\n",
    "C=1\n",
    "epoch=500\n",
    "gamma=0.9\n",
    "batch_size=64\n",
    "#w=np.zeros([attr_num+1,1])\n",
    "w=np.random.standard_normal([attr_num+1,1])\n",
    "w,test_loss=NAG(w,x_train,y_train,gamma,eta,epoch,C,batch_size)\n",
    "\n",
    "#print(w)\n",
    "iteration=list(range(epoch))\n",
    "plt.figure()\n",
    "plt.plot(iteration,test_loss)\n",
    "plt.show()\n",
    "\n",
    "print(accuracy(w,x_test,y_test,0))\n"
   ]
  },
  {
   "cell_type": "code",
   "execution_count": 14,
   "metadata": {},
   "outputs": [
    {
     "data": {
      "image/png": "[encoded data removed]",
      "text/plain": [
       "<matplotlib.figure.Figure at 0x1bb49b3d8d0>"
      ]
     },
     "metadata": {},
     "output_type": "display_data"
    },
    {
     "name": "stdout",
     "output_type": "stream",
     "text": [
      "0.843252871445\n"
     ]
    }
   ],
   "source": [
    "#rms算法\n",
    "\n",
    "eta=0.01\n",
    "C=1\n",
    "epoch=500\n",
    "gamma=0.9\n",
    "batch_size=64\n",
    "\n",
    "#w=np.zeros([attr_num+1,1])\n",
    "w=np.random.standard_normal([attr_num+1,1])\n",
    "w,test_loss=RMS(w,x_train,y_train,eta,epoch,gamma,C,batch_size)\n",
    "\n",
    "iteration=list(range(epoch))\n",
    "plt.figure()\n",
    "plt.plot(iteration,test_loss)\n",
    "plt.show()\n",
    "\n",
    "print(accuracy(w,x_test,y_test,0))"
   ]
  },
  {
   "cell_type": "code",
   "execution_count": 22,
   "metadata": {},
   "outputs": [
    {
     "data": {
      "image/png": "[encoded data removed]",
      "text/plain": [
       "<matplotlib.figure.Figure at 0x1bb4c0deb38>"
      ]
     },
     "metadata": {},
     "output_type": "display_data"
    },
    {
     "name": "stdout",
     "output_type": "stream",
     "text": [
      "0.841533075364\n"
     ]
    }
   ],
   "source": [
    "#adaDelta\n",
    "epoch=500\n",
    "gamma=0.7\n",
    "batch_size=64\n",
    "C=1\n",
    "#w=np.zeros([attr_num+1,1])\n",
    "w=np.random.standard_normal([attr_num+1,1])\n",
    "w,test_loss=AdaDelta(w,x_train,y_train,gamma,C,epoch,batch_size)\n",
    "\n",
    "iteration=list(range(epoch))\n",
    "plt.figure()\n",
    "plt.plot(iteration,test_loss)\n",
    "plt.show()\n",
    "\n",
    "print(accuracy(w,x_test,y_test,0))"
   ]
  },
  {
   "cell_type": "code",
   "execution_count": 23,
   "metadata": {},
   "outputs": [
    {
     "data": {
      "image/png": "[encoded data removed]",
      "text/plain": [
       "<matplotlib.figure.Figure at 0x1bb4c29bba8>"
      ]
     },
     "metadata": {},
     "output_type": "display_data"
    },
    {
     "name": "stdout",
     "output_type": "stream",
     "text": [
      "0.84706099134\n"
     ]
    }
   ],
   "source": [
    "#adam\n",
    "epoch=500\n",
    "gamma=0.999\n",
    "eta=0.04\n",
    "batch_size=256\n",
    "beta=0.9\n",
    "C=1\n",
    "#w=np.zeros([attr_num+1,1])\n",
    "w=np.random.standard_normal([attr_num+1,1])\n",
    "w,test_loss=Adam(w,x_train,y_train,eta,gamma,beta,epoch,batch_size,C)\n",
    "\n",
    "iteration=list(range(epoch))\n",
    "plt.figure()\n",
    "plt.plot(iteration,test_loss)\n",
    "plt.show()\n",
    "\n",
    "print(accuracy(w,x_test,y_test,0))"
   ]
  },
  {
   "cell_type": "code",
   "execution_count": null,
   "metadata": {
    "collapsed": true
   },
   "outputs": [],
   "source": []
  },
  {
   "cell_type": "code",
   "execution_count": null,
   "metadata": {
    "collapsed": true
   },
   "outputs": [],
   "source": []
  },
  {
   "cell_type": "code",
   "execution_count": null,
   "metadata": {
    "collapsed": true
   },
   "outputs": [],
   "source": []
  }
 ],
 "metadata": {
  "kernelspec": {
   "display_name": "Python 3",
   "language": "python",
   "name": "python3"
  },
  "language_info": {
   "codemirror_mode": {
    "name": "ipython",
    "version": 3
   },
   "file_extension": ".py",
   "mimetype": "text/x-python",
   "name": "python",
   "nbconvert_exporter": "python",
   "pygments_lexer": "ipython3",
   "version": "3.6.3"
  }
 },
 "nbformat": 4,
 "nbformat_minor": 2
}
