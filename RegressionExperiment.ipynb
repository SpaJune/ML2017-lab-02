{
 "cells": [
  {
   "cell_type": "code",
   "execution_count": 1,
   "metadata": {
    "collapsed": true
   },
   "outputs": [],
   "source": [
    "import matplotlib.pyplot as plt\n",
    "import numpy as np\n",
    "import sklearn\n",
    "from sklearn.datasets import load_svmlight_file\n",
    "from sklearn.model_selection import train_test_split\n",
    "import random"
   ]
  },
  {
   "cell_type": "code",
   "execution_count": 2,
   "metadata": {
    "collapsed": true
   },
   "outputs": [],
   "source": [
    "def get_data(dir,f_num):\n",
    "    data = load_svmlight_file(dir,n_features=f_num) #读取数据，设定feature数量\n",
    "    return data[0], data[1]\n"
   ]
  },
  {
   "cell_type": "code",
   "execution_count": 3,
   "metadata": {
    "collapsed": true
   },
   "outputs": [],
   "source": [
    "test_dir=\"./a9a.t\"\n",
    "train_dir=\"./a9a\"\n",
    "\n",
    "x_test,y_test=get_data(test_dir,123)\n",
    "x_train,y_train=get_data(train_dir,123)"
   ]
  },
  {
   "cell_type": "code",
   "execution_count": 4,
   "metadata": {
    "collapsed": true
   },
   "outputs": [],
   "source": [
    "attr_num=x_train.shape[1] #属性的数量\n",
    "m_test=x_test.shape[0] #test集合的样本数量\n",
    "m_train=x_train.shape[0] #train集合的样本数量\n",
    "\n",
    "x_train=x_train.todense() #化为稠密矩阵，后面方便操作\n",
    "x_test=x_test.todense()  #同上\n",
    "\n",
    "x_train=np.column_stack((np.ones(m_train),x_train)) #加一列1，作为偏置\n",
    "x_test=np.column_stack((np.ones(m_test),x_test)) #加一列1，作为偏置\n",
    "\n",
    "y_train=np.mat(y_train).T  #化为列矩阵\n",
    "y_test=np.mat(y_test).T    #同上"
   ]
  },
  {
   "cell_type": "code",
   "execution_count": 5,
   "metadata": {
    "collapsed": true
   },
   "outputs": [],
   "source": [
    "def loss(w,x,y):\n",
    "    y_=x*w\n",
    "    index=-np.multiply(y_,y)\n",
    "    #print(index)\n",
    "    l=np.mean(np.log(1+np.exp(index)))\n",
    "    return l\n",
    "\n",
    "def gradient(w,x,y,lamda=0):#logistic的计算，包括正则项，默认为0\n",
    "    y_=x*w     \n",
    "    index=np.multiply(y,y_)  \n",
    "    mul=np.multiply(y,x)\n",
    "    g=-np.mean(mul/(1+np.exp(index)),0).T+lamda*w\n",
    "    return g\n",
    "\n",
    "def accuracy(w,x,y,threshold):\n",
    "    y=(y>0)\n",
    "    pre=1/(1+np.exp(-x*w))\n",
    "    pre=(pre>=threshold)  #大于等于threshold的化为true,小于的化为false\n",
    "    return np.mean(y==pre)\n"
   ]
  },
  {
   "cell_type": "code",
   "execution_count": 6,
   "metadata": {
    "collapsed": true
   },
   "outputs": [],
   "source": [
    "#四种优化算法\n",
    "\n",
    "#eta:learning rate, lamda:regularization factor\n",
    "#y:label,eta: learning rate, epoch:loop epoch,batch_size: batch size in one loop\n",
    "def gradientDescent(w,x,y,eta,epoch,batch_size,lamda):\n",
    "    loss_test=[]\n",
    "    for j in range(epoch):\n",
    "        i=random.randint(0,m_train-1-batch_size)\n",
    "        #g=eta*np.mean(mul/(1+np.exp(index)),0).T-eta*lamda*w\n",
    "        #w=(1-eta*lamda)*w+eta*np.mean(mul/(1+np.exp(index)),0).T\n",
    "        #w=w+g\n",
    "        x_t=x[i:i+batch_size]\n",
    "        y_t=y[i:i+batch_size]\n",
    "        #print(x_t[0])\n",
    "        g=gradient(w,x_t,y_t,lamda)\n",
    "        w=w-eta*g       \n",
    "        loss_test.append(loss(w,x_test,y_test))\n",
    "    return w,loss_test\n",
    "    \n",
    "#eta:learning rate, lamda:regularization factor\n",
    "#y:label,eta: learning rate, epoch:loop epoch,m: batch size in one loop\n",
    "    \n",
    "def NAG(w,x,y,gamma,eta,epoch,lamda,m):\n",
    "    delta_w=0\n",
    "    test_loss=[]\n",
    "    for i in range(epoch):\n",
    "        k=random.randint(0,m_train-1-m)\n",
    "        x_t=x[k:k+m]\n",
    "        y_t=y[k:k+m]\n",
    "        g=gradient(w-gamma*delta_w,x_t,y_t,lamda)\n",
    "        delta_w=gamma*delta_w+eta*g\n",
    "        w=w-delta_w\n",
    "        test_loss.append(loss(w,x_test,y_test))\n",
    "    return w,test_loss\n",
    "\n",
    "\n",
    "#eta:learning rate, lamda:regularization factor\n",
    "#y:label,eta: learning rate, epoch:loop epoch,gamma: forgetting rate, m: batch size in one loop\n",
    "def RMS(w,x,y,eta,epoch,gamma,lamda,m):\n",
    "    epison=0.0001\n",
    "    G=0\n",
    "    test_loss=[]\n",
    "    train_loss=[]\n",
    "    for i in range(epoch):\n",
    "        k=random.randint(0,m_train-1-m)\n",
    "        x_t=x[k:k+m]\n",
    "        y_t=y[k:k+m]\n",
    "        g=gradient(w,x_t,y_t,lamda)\n",
    "        G=gamma*G+(1-gamma)*np.square(g)\n",
    "        #print(E.shape)\n",
    "        delta_w=eta*np.multiply(1/np.sqrt(G+epison),g)\n",
    "        w=w-delta_w\n",
    "        test_loss.append(loss(w,x_test,y_test))\n",
    "        #print(loss(w,x_test,y_test))\n",
    "    return w,test_loss\n",
    "\n",
    "# lamda:regularization factor\n",
    "#y:label,eta: learning rate, epoch:loop epoch,gamma: forgetting rate, m: batch size in one loop\n",
    "    \n",
    "def AdaDelta(w,x,y,gamma,epoch,m,lamda): #without learning rate\n",
    "    epison=0.0001\n",
    "    G=0\n",
    "    delta=0\n",
    "    test_loss=[]\n",
    "    for i in range(epoch):\n",
    "        k=random.randint(0,m_train-m)\n",
    "        x_t=x[k:k+m]\n",
    "        y_t=y[k:k+m]\n",
    "        g=gradient(w,x_t,y_t,lamda)\n",
    "        G=gamma*G+(1-gamma)*np.square(g)\n",
    "        delta_w=-np.multiply(np.sqrt(delta+epison)/np.sqrt(G+epison),g)\n",
    "        w=w+delta_w\n",
    "        delta=gamma*delta+(1-gamma)*np.square(delta_w)\n",
    "        test_loss.append(loss(w,x_test,y_test))\n",
    "    return w,test_loss\n",
    "\n",
    "# lamda: regularization factor\n",
    "#y:label,eta: learning rate, epoch:loop epoch,gamma: forgetting rate, beta: forgetting rate, m: batch size in one loop\n",
    "\n",
    "def Adam(w,x,y,eta,gamma,beta,epoch,batch_size,lamda):\n",
    "    epison=0.0001\n",
    "    G=0    #square mean\n",
    "    m=0    #weighted mean\n",
    "    delta=0\n",
    "    test_loss=[]\n",
    "    for i in range(epoch):\n",
    "        k=random.randint(0,m_train-batch_size)\n",
    "        x_t=x[k:k+batch_size]\n",
    "        y_t=y[k:k+batch_size]\n",
    "        g=gradient(w,x_t,y_t,lamda)    \n",
    "        m=beta*m+(1-beta)*g\n",
    "        G=gamma*G+(1-gamma)*np.square(g)     \n",
    "        alpha=eta*np.sqrt(1-gamma)/(1-beta)  \n",
    "        w=w-alpha*m/np.sqrt(G+epison)\n",
    "        #print(loss(w,x_test,y_test))\n",
    "        test_loss.append(loss(w,x_test,y_test))\n",
    "    return w,test_loss\n",
    "\n",
    "    "
   ]
  },
  {
   "cell_type": "code",
   "execution_count": 16,
   "metadata": {},
   "outputs": [
    {
     "data": {
      "image/png": "[encoded data removed]",
      "text/plain": [
       "<matplotlib.figure.Figure at 0x28ff2263390>"
      ]
     },
     "metadata": {},
     "output_type": "display_data"
    },
    {
     "name": "stdout",
     "output_type": "stream",
     "text": [
      "0.844051348197\n"
     ]
    }
   ],
   "source": [
    "#gradient_descent\n",
    "eta=0.1\n",
    "lamda=0.01\n",
    "epoch=1000\n",
    "batch_size=128\n",
    "w=np.zeros([attr_num+1,1])\n",
    "\n",
    "\n",
    "w,loss_test=gradientDescent(w,x_train,y_train,eta,epoch,batch_size,lamda)\n",
    "#print(x_test.shape)\n",
    "\n",
    "\n",
    "iteration=list(range(epoch))\n",
    "plt.figure()\n",
    "plt.plot(iteration,loss_test)\n",
    "plt.show()\n",
    "\n",
    "print(accuracy(w,x_test,y_test,0.5))"
   ]
  },
  {
   "cell_type": "code",
   "execution_count": 23,
   "metadata": {},
   "outputs": [
    {
     "data": {
      "image/png": "[encoded data removed]",
      "text/plain": [
       "<matplotlib.figure.Figure at 0x28ff6ec3e48>"
      ]
     },
     "metadata": {},
     "output_type": "display_data"
    },
    {
     "name": "stdout",
     "output_type": "stream",
     "text": [
      "0.847245255205\n"
     ]
    }
   ],
   "source": [
    "#NAG\n",
    "eta=0.02\n",
    "lamda=0.001\n",
    "epoch=500\n",
    "gamma=0.9\n",
    "batch_size=64\n",
    "w=np.zeros([attr_num+1,1])\n",
    "w,test_loss=NAG(w,x_train,y_train,gamma,eta,epoch,lamda,batch_size)\n",
    "\n",
    "#print(w)\n",
    "iteration=list(range(epoch))\n",
    "plt.figure()\n",
    "plt.plot(iteration,test_loss)\n",
    "plt.show()\n",
    "\n",
    "print(accuracy(w,x_test,y_test,0.5))"
   ]
  },
  {
   "cell_type": "code",
   "execution_count": 18,
   "metadata": {},
   "outputs": [
    {
     "data": {
      "image/png": "[encoded data removed]",
      "text/plain": [
       "<matplotlib.figure.Figure at 0x28ff92bdf98>"
      ]
     },
     "metadata": {},
     "output_type": "display_data"
    },
    {
     "name": "stdout",
     "output_type": "stream",
     "text": [
      "0.848473680978\n"
     ]
    }
   ],
   "source": [
    "#rms算法\n",
    "\n",
    "eta=0.005\n",
    "lamda=0.001\n",
    "epoch=500\n",
    "gamma=0.9\n",
    "batch_size=256\n",
    "w=np.zeros([attr_num+1,1])\n",
    "w,test_loss=RMS(w,x_train,y_train,eta,epoch,gamma,lamda,batch_size)\n",
    "\n",
    "iteration=list(range(epoch))\n",
    "plt.figure()\n",
    "plt.plot(iteration,test_loss)\n",
    "plt.show()\n",
    "\n",
    "print(accuracy(w,x_test,y_test,0.5))"
   ]
  },
  {
   "cell_type": "code",
   "execution_count": 19,
   "metadata": {},
   "outputs": [
    {
     "data": {
      "image/png": "[encoded data removed]",
      "text/plain": [
       "<matplotlib.figure.Figure at 0x28ff6896828>"
      ]
     },
     "metadata": {},
     "output_type": "display_data"
    },
    {
     "name": "stdout",
     "output_type": "stream",
     "text": [
      "0.84706099134\n"
     ]
    }
   ],
   "source": [
    "#adaDelta\n",
    "epoch=100\n",
    "gamma=0.999\n",
    "batch_size=256\n",
    "lamda=0.001\n",
    "w=np.zeros([attr_num+1,1])\n",
    "w,test_loss=AdaDelta(w,x_train,y_train,gamma,epoch,batch_size,lamda)\n",
    "\n",
    "iteration=list(range(epoch))\n",
    "plt.figure()\n",
    "plt.plot(iteration,test_loss)\n",
    "plt.show()\n",
    "\n",
    "print(accuracy(w,x_test,y_test,0.5))"
   ]
  },
  {
   "cell_type": "code",
   "execution_count": 20,
   "metadata": {},
   "outputs": [
    {
     "data": {
      "image/png": "[encoded data removed]",
      "text/plain": [
       "<matplotlib.figure.Figure at 0x28ff222c588>"
      ]
     },
     "metadata": {},
     "output_type": "display_data"
    },
    {
     "name": "stdout",
     "output_type": "stream",
     "text": [
      "0.850746268657\n"
     ]
    }
   ],
   "source": [
    "#adam\n",
    "epoch=500\n",
    "gamma=0.99\n",
    "eta=0.01\n",
    "batch_size=128\n",
    "beta=0.9\n",
    "lamda=0.001\n",
    "w=np.zeros([attr_num+1,1])\n",
    "w,test_loss=Adam(w,x_train,y_train,eta,gamma,beta,epoch,batch_size,lamda)\n",
    "\n",
    "iteration=list(range(epoch))\n",
    "plt.figure()\n",
    "plt.plot(iteration,test_loss)\n",
    "plt.show()\n",
    "\n",
    "print(accuracy(w,x_test,y_test,0.5))"
   ]
  },
  {
   "cell_type": "code",
   "execution_count": null,
   "metadata": {
    "collapsed": true
   },
   "outputs": [],
   "source": []
  }
 ],
 "metadata": {
  "kernelspec": {
   "display_name": "Python 3",
   "language": "python",
   "name": "python3"
  },
  "language_info": {
   "codemirror_mode": {
    "name": "ipython",
    "version": 3
   },
   "file_extension": ".py",
   "mimetype": "text/x-python",
   "name": "python",
   "nbconvert_exporter": "python",
   "pygments_lexer": "ipython3",
   "version": "3.6.3"
  }
 },
 "nbformat": 4,
 "nbformat_minor": 2
}
